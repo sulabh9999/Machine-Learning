{
 "cells": [
  {
   "cell_type": "code",
   "execution_count": 2,
   "metadata": {
    "collapsed": true
   },
   "outputs": [],
   "source": [
    "from sklearn.linear_model import LinearRegression, LogisticRegression                    \n",
    "from sklearn.model_selection import train_test_split\n",
    "import pandas as pd"
   ]
  },
  {
   "cell_type": "code",
   "execution_count": 2,
   "metadata": {},
   "outputs": [],
   "source": [
    "data = pd.DataFrame(pd.read_csv(\"./regression/house_price/LinearRegression/kc_house_data.csv\"))      \n",
    "prices = data['price']\n",
    "features = data.drop(['id', 'date', 'price'], axis=1)\n",
    "X_train, X_test, y_train, y_test = train_test_split(features, prices, test_size=0.2, random_state=0)             \n"
   ]
  },
  {
   "cell_type": "code",
   "execution_count": 4,
   "metadata": {},
   "outputs": [
    {
     "name": "stdout",
     "output_type": "stream",
     "text": [
      "linear regression\nTraining accuracy: 0.700534931114\nTest accuracy: 0.694931009512\n[ -3.46742834e+04   3.94309995e+04   1.12610340e+02   1.75888746e-01\n   7.42456797e+03   6.05600540e+05   5.27368869e+04   2.61695179e+04\n   9.35901530e+04   7.27875918e+01   3.98227485e+01  -2.60713695e+03\n   2.01053037e+01  -5.67468820e+02   6.04865960e+05  -2.22392027e+05\n   2.42333810e+01  -4.67450069e-01]\n"
     ]
    }
   ],
   "source": [
    "lrModel = LinearRegression()\n",
    "lrModel.fit(X_train, y_train)\n",
    "print('linear regression')\n",
    "print('Training accuracy:', lrModel.score(X_train, y_train))\n",
    "print('Test accuracy:', lrModel.score(X_test, y_test))     "
   ]
  },
  {
   "cell_type": "code",
   "execution_count": 11,
   "metadata": {},
   "outputs": [],
   "source": []
  },
  {
   "cell_type": "code",
   "execution_count": null,
   "metadata": {},
   "outputs": [],
   "source": []
  }
 ],
 "metadata": {
  "kernelspec": {
   "display_name": "Python 2",
   "language": "python",
   "name": "python2"
  },
  "language_info": {
   "codemirror_mode": {
    "name": "ipython",
    "version": 2
   },
   "file_extension": ".py",
   "mimetype": "text/x-python",
   "name": "python",
   "nbconvert_exporter": "python",
   "pygments_lexer": "ipython2",
   "version": "2.7.6"
  }
 },
 "nbformat": 4,
 "nbformat_minor": 0
}
